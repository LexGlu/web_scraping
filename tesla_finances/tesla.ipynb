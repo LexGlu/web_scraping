{
 "cells": [
  {
   "cell_type": "code",
   "execution_count": 2,
   "id": "ea7b5ada-475b-4a02-8337-7d428af52030",
   "metadata": {
    "tags": [],
    "ExecuteTime": {
     "start_time": "2023-04-20T16:49:27.883443Z",
     "end_time": "2023-04-20T16:49:29.526974Z"
    }
   },
   "outputs": [],
   "source": [
    "# import packages\n",
    "\n",
    "import requests\n",
    "from bs4 import BeautifulSoup\n",
    "import pandas as pd\n",
    "import re"
   ]
  },
  {
   "cell_type": "code",
   "execution_count": 3,
   "id": "dcbb9bc1-699c-4e39-aeb9-ed6d822f1bc0",
   "metadata": {
    "tags": [],
    "ExecuteTime": {
     "start_time": "2023-04-20T16:49:29.529509Z",
     "end_time": "2023-04-20T16:49:30.349841Z"
    }
   },
   "outputs": [],
   "source": [
    "url = 'https://en.wikipedia.org/wiki/Tesla,_Inc.'\n",
    "\n",
    "downloaded_html = requests.get(url)\n",
    "soup = BeautifulSoup(downloaded_html.text)\n",
    "\n",
    "with open('downloaded.html', 'w') as f:\n",
    "    f.write(soup.prettify())"
   ]
  },
  {
   "cell_type": "code",
   "execution_count": 4,
   "id": "369589e3-8c4c-43c0-bc97-8907adef0c1c",
   "metadata": {
    "tags": [],
    "ExecuteTime": {
     "start_time": "2023-04-20T16:49:30.399325Z",
     "end_time": "2023-04-20T16:49:30.401282Z"
    }
   },
   "outputs": [],
   "source": [
    "# select table.wikitable\n",
    "\n",
    "full_table = soup.select('table.wikitable tbody')[1]"
   ]
  },
  {
   "cell_type": "code",
   "execution_count": 5,
   "id": "0064a8a7-312f-4b02-a0eb-22df6b832b1b",
   "metadata": {
    "tags": [],
    "ExecuteTime": {
     "start_time": "2023-04-20T16:49:30.403546Z",
     "end_time": "2023-04-20T16:49:30.405823Z"
    }
   },
   "outputs": [],
   "source": [
    "# extract the table column headings -> a list with all column headings\n",
    "\n",
    "table_head = full_table.select('tr th')\n",
    "\n",
    "table_columns = []\n",
    "for element in table_head:\n",
    "    column_label = element.get_text(separator=' ', strip=True).replace(' ', '_')\n",
    "    table_columns.append(column_label)"
   ]
  },
  {
   "cell_type": "code",
   "execution_count": 6,
   "id": "5a3b9742-b55d-4b69-a6ff-f63e92d8db09",
   "metadata": {
    "tags": [],
    "ExecuteTime": {
     "start_time": "2023-04-20T16:49:30.410887Z",
     "end_time": "2023-04-20T16:49:30.412846Z"
    }
   },
   "outputs": [],
   "source": [
    "# extract the table data (rows) -> multidimensional list with a list for each row\n",
    "\n",
    "table_rows = full_table.select('tr')\n",
    "regex = r'\\[\\d{1,4}\\]'\n",
    "\n",
    "table_data = []\n",
    "for index, element in enumerate(table_rows):\n",
    "    if index > 0:\n",
    "        row_list = []\n",
    "        values = element.select('td')\n",
    "        for value in values:\n",
    "            value = re.sub(regex, '', value.text.strip()).replace(',', '')\n",
    "            row_list.append(value)\n",
    "        table_data.append(row_list)"
   ]
  },
  {
   "cell_type": "code",
   "execution_count": 9,
   "id": "2d4503c5-5c19-4f42-8759-bb3608521bf9",
   "metadata": {
    "tags": [],
    "ExecuteTime": {
     "start_time": "2023-04-20T16:49:49.765410Z",
     "end_time": "2023-04-20T16:49:49.776517Z"
    }
   },
   "outputs": [
    {
     "data": {
      "text/plain": "    Year Revenue_(mil._USD) Net_income_(mil._USD) Total_assets_(mil._USD)  \\\n0   2005                  0                   −12                       8   \n1   2006                  0                   −30                      44   \n2   2007              0.073                   −78                      34   \n3   2008                 15                   −83                      52   \n4   2009                112                   −56                     130   \n5   2010                117                  −154                     386   \n6   2011                204                  −254                     713   \n7   2012                413                  −396                    1114   \n8   2013               2013                   −74                    2417   \n9   2014               3198                  −294                    5831   \n10  2015               4046                  −889                    8068   \n11  2016               7000                  −675                   22664   \n12  2017              11759                 −1962                   28655   \n13  2018              21461                  −976                   29740   \n14  2019              24578                  −862                   34309   \n15  2020              31536                   721                   52148   \n16  2021              53823                  5519                   62131   \n17  2022              81462                 12556                   82338   \n\n   Employees  \n0             \n1         70  \n2        268  \n3        252  \n4        514  \n5        899  \n6       1417  \n7       2914  \n8       5859  \n9      10161  \n10     13058  \n11     17782  \n12     37543  \n13     48817  \n14     48016  \n15     70757  \n16     99290  \n17    127855  ",
      "text/html": "<div>\n<style scoped>\n    .dataframe tbody tr th:only-of-type {\n        vertical-align: middle;\n    }\n\n    .dataframe tbody tr th {\n        vertical-align: top;\n    }\n\n    .dataframe thead th {\n        text-align: right;\n    }\n</style>\n<table border=\"1\" class=\"dataframe\">\n  <thead>\n    <tr style=\"text-align: right;\">\n      <th></th>\n      <th>Year</th>\n      <th>Revenue_(mil._USD)</th>\n      <th>Net_income_(mil._USD)</th>\n      <th>Total_assets_(mil._USD)</th>\n      <th>Employees</th>\n    </tr>\n  </thead>\n  <tbody>\n    <tr>\n      <th>0</th>\n      <td>2005</td>\n      <td>0</td>\n      <td>−12</td>\n      <td>8</td>\n      <td></td>\n    </tr>\n    <tr>\n      <th>1</th>\n      <td>2006</td>\n      <td>0</td>\n      <td>−30</td>\n      <td>44</td>\n      <td>70</td>\n    </tr>\n    <tr>\n      <th>2</th>\n      <td>2007</td>\n      <td>0.073</td>\n      <td>−78</td>\n      <td>34</td>\n      <td>268</td>\n    </tr>\n    <tr>\n      <th>3</th>\n      <td>2008</td>\n      <td>15</td>\n      <td>−83</td>\n      <td>52</td>\n      <td>252</td>\n    </tr>\n    <tr>\n      <th>4</th>\n      <td>2009</td>\n      <td>112</td>\n      <td>−56</td>\n      <td>130</td>\n      <td>514</td>\n    </tr>\n    <tr>\n      <th>5</th>\n      <td>2010</td>\n      <td>117</td>\n      <td>−154</td>\n      <td>386</td>\n      <td>899</td>\n    </tr>\n    <tr>\n      <th>6</th>\n      <td>2011</td>\n      <td>204</td>\n      <td>−254</td>\n      <td>713</td>\n      <td>1417</td>\n    </tr>\n    <tr>\n      <th>7</th>\n      <td>2012</td>\n      <td>413</td>\n      <td>−396</td>\n      <td>1114</td>\n      <td>2914</td>\n    </tr>\n    <tr>\n      <th>8</th>\n      <td>2013</td>\n      <td>2013</td>\n      <td>−74</td>\n      <td>2417</td>\n      <td>5859</td>\n    </tr>\n    <tr>\n      <th>9</th>\n      <td>2014</td>\n      <td>3198</td>\n      <td>−294</td>\n      <td>5831</td>\n      <td>10161</td>\n    </tr>\n    <tr>\n      <th>10</th>\n      <td>2015</td>\n      <td>4046</td>\n      <td>−889</td>\n      <td>8068</td>\n      <td>13058</td>\n    </tr>\n    <tr>\n      <th>11</th>\n      <td>2016</td>\n      <td>7000</td>\n      <td>−675</td>\n      <td>22664</td>\n      <td>17782</td>\n    </tr>\n    <tr>\n      <th>12</th>\n      <td>2017</td>\n      <td>11759</td>\n      <td>−1962</td>\n      <td>28655</td>\n      <td>37543</td>\n    </tr>\n    <tr>\n      <th>13</th>\n      <td>2018</td>\n      <td>21461</td>\n      <td>−976</td>\n      <td>29740</td>\n      <td>48817</td>\n    </tr>\n    <tr>\n      <th>14</th>\n      <td>2019</td>\n      <td>24578</td>\n      <td>−862</td>\n      <td>34309</td>\n      <td>48016</td>\n    </tr>\n    <tr>\n      <th>15</th>\n      <td>2020</td>\n      <td>31536</td>\n      <td>721</td>\n      <td>52148</td>\n      <td>70757</td>\n    </tr>\n    <tr>\n      <th>16</th>\n      <td>2021</td>\n      <td>53823</td>\n      <td>5519</td>\n      <td>62131</td>\n      <td>99290</td>\n    </tr>\n    <tr>\n      <th>17</th>\n      <td>2022</td>\n      <td>81462</td>\n      <td>12556</td>\n      <td>82338</td>\n      <td>127855</td>\n    </tr>\n  </tbody>\n</table>\n</div>"
     },
     "execution_count": 9,
     "metadata": {},
     "output_type": "execute_result"
    }
   ],
   "source": [
    "df = pd.DataFrame(table_data, columns=table_columns)"
   ]
  },
  {
   "cell_type": "code",
   "execution_count": 8,
   "id": "082dc276-def1-467f-8fa8-2d048171d48c",
   "metadata": {
    "tags": [],
    "ExecuteTime": {
     "start_time": "2023-04-20T16:49:30.418875Z",
     "end_time": "2023-04-20T16:49:30.425776Z"
    }
   },
   "outputs": [],
   "source": [
    "df.to_csv('tesla.csv', index=False, header=table_columns)"
   ]
  }
 ],
 "metadata": {
  "kernelspec": {
   "display_name": "Python 3 (ipykernel)",
   "language": "python",
   "name": "python3"
  },
  "language_info": {
   "codemirror_mode": {
    "name": "ipython",
    "version": 3
   },
   "file_extension": ".py",
   "mimetype": "text/x-python",
   "name": "python",
   "nbconvert_exporter": "python",
   "pygments_lexer": "ipython3",
   "version": "3.9.13"
  }
 },
 "nbformat": 4,
 "nbformat_minor": 5
}
